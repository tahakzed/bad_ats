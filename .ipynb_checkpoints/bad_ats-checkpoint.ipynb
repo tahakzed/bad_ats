{
 "cells": [
  {
   "cell_type": "code",
   "execution_count": 4,
   "id": "c4f90890-2b41-4db4-9cf5-d825a1f9df83",
   "metadata": {},
   "outputs": [
    {
     "name": "stdout",
     "output_type": "stream",
     "text": [
      "Taha Khan\n",
      " : PERSON\n",
      "Software Developer\n",
      "Bringing : ORG\n",
      "Trier : GPE\n",
      "Germany : GPE\n",
      "Universität Trier : FAC\n",
      "pandas sklearn : PERSON\n",
      "10/2022 - Present : DATE\n",
      "Tensorflow Java\n",
      "BE Software Engineering : PERSON\n",
      "Mehran University of Engineering : ORG\n",
      "Flutter Java\n",
      "Technology : PERSON\n",
      "Android : ORG\n",
      "10/2017 - 10/2021 : DATE\n",
      "Passive : ORG\n",
      "Mobile Application Developer : ORG\n",
      "01/2021 - 10/2021 : ORG\n",
      "3Oi : CARDINAL\n",
      "04/2021 - 01/2022 : ORG\n",
      "Wisconsin : GPE\n",
      "USA : GPE\n",
      "90% : PERCENT\n",
      "Tinder : ORG\n",
      "Android : PERSON\n",
      "English : NORP\n",
      "Native : NORP\n",
      "German : NORP\n",
      "Elementary : PERSON\n",
      "Communication Teamwork Leadership\n",
      "Problem Solving : ORG\n"
     ]
    }
   ],
   "source": [
    "import pdfplumber\n",
    "import spacy\n",
    "\n",
    "nlp = spacy.load('en_core_web_sm')\n",
    "\n",
    "with pdfplumber.open('CV_Taha_Khan.pdf') as pdf:\n",
    "    first_page = pdf.pages[0]\n",
    "    text = first_page.extract_text()\n",
    "    doc = nlp(text)\n",
    "    for entity in doc.ents:\n",
    "        print(entity.text, ':', entity.label_)"
   ]
  },
  {
   "cell_type": "code",
   "execution_count": 6,
   "id": "f6d9e1c0-7fef-4d43-8da1-8c1865bfdd4e",
   "metadata": {},
   "outputs": [
    {
     "name": "stdout",
     "output_type": "stream",
     "text": [
      "Requirement already satisfied: PyPDF2 in c:\\users\\tahak\\appdata\\local\\programs\\python\\python310\\lib\\site-packages (3.0.1)\n"
     ]
    },
    {
     "name": "stderr",
     "output_type": "stream",
     "text": [
      "WARNING: You are using pip version 21.2.3; however, version 24.0 is available.\n",
      "You should consider upgrading via the 'C:\\Users\\tahak\\AppData\\Local\\Programs\\Python\\Python310\\python.exe -m pip install --upgrade pip' command.\n"
     ]
    }
   ],
   "source": [
    "!pip install PyPDF2"
   ]
  },
  {
   "cell_type": "code",
   "execution_count": 16,
   "id": "0dcf2acc-235f-439d-8d2b-466adb0c373a",
   "metadata": {},
   "outputs": [
    {
     "name": "stdout",
     "output_type": "stream",
     "text": [
      "<class 'PyPDF2.generic._rectangle.RectangleObject'>\n",
      "RectangleObject([0, 0, 595, 842])\n",
      "<bound method PdfReader.read_object_header of <PyPDF2._reader.PdfReader object at 0x000001E89D1441C0>>\n"
     ]
    }
   ],
   "source": [
    "import PyPDF2 as reader\n",
    "import spacy \n",
    "\n",
    "nlp = spacy.load('en_core_web_sm')\n",
    "\n",
    "with open('CV_Taha_Khan.pdf', 'rb') as file:\n",
    "    doc = reader.PdfReader(file)\n",
    "    first_page = doc.pages[0]\n",
    "    print(type(first_page.bleedbox))\n",
    "    print(first_page.bleedbox)\n",
    "    print(doc.read_object_header)"
   ]
  }
 ],
 "metadata": {
  "kernelspec": {
   "display_name": "Python 3 (ipykernel)",
   "language": "python",
   "name": "python3"
  },
  "language_info": {
   "codemirror_mode": {
    "name": "ipython",
    "version": 3
   },
   "file_extension": ".py",
   "mimetype": "text/x-python",
   "name": "python",
   "nbconvert_exporter": "python",
   "pygments_lexer": "ipython3",
   "version": "3.10.0"
  }
 },
 "nbformat": 4,
 "nbformat_minor": 5
}
